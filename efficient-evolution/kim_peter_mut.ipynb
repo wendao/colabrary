{
  "nbformat": 4,
  "nbformat_minor": 0,
  "metadata": {
    "colab": {
      "provenance": []
    },
    "kernelspec": {
      "name": "python3",
      "display_name": "Python 3"
    },
    "language_info": {
      "name": "python"
    }
  },
  "cells": [
    {
      "cell_type": "code",
      "execution_count": 5,
      "metadata": {
        "colab": {
          "base_uri": "https://localhost:8080/"
        },
        "id": "s50ivIwXX0VA",
        "outputId": "e3685594-640d-4520-bc17-64e85773b54c"
      },
      "outputs": [
        {
          "output_type": "stream",
          "name": "stdout",
          "text": [
            "CPU times: user 35.2 ms, sys: 4.93 ms, total: 40.1 ms\n",
            "Wall time: 7.14 s\n"
          ]
        },
        {
          "output_type": "execute_result",
          "data": {
            "text/plain": [
              "0"
            ]
          },
          "metadata": {},
          "execution_count": 5
        }
      ],
      "source": [
        "%%time\n",
        "import os\n",
        "os.system(\"conda install pytorch cudatoolkit=11.3 -c pytorch\")\n",
        "os.system(\"pip -q install fair-esm\")\n",
        "os.system(\"wget https://raw.githubusercontent.com/wendao/colabrary/main/efficient-evolution/amis.py\")\n",
        "os.system(\"wget https://raw.githubusercontent.com/wendao/colabrary/main/efficient-evolution/fb_model.py\")\n",
        "os.system(\"wget https://raw.githubusercontent.com/wendao/colabrary/main/efficient-evolution/recommend.py\")"
      ]
    },
    {
      "cell_type": "code",
      "source": [
        "#@markdown ### WT sequence (or any starting sequence)\n",
        "query_sequence = 'PIAQIHILEGRSDEQKETLIREVSEAISRSLDAPLTSVRVIITEMAKGHFGIGGELASK' #@param {type:\"string\"}\n",
        "\n",
        "cmd = \"python recommend.py \" + query_sequence\n",
        "\n",
        "from subprocess import Popen, PIPE, STDOUT\n",
        "p = Popen(cmd, stdout=PIPE, stderr=STDOUT, shell=True)\n",
        "while True:\n",
        "  line = p.stdout.readline()\n",
        "  if not line:\n",
        "    break\n",
        "  else:\n",
        "    print(line[:-3])"
      ],
      "metadata": {
        "id": "JbhzBPD5fj-n"
      },
      "execution_count": 8,
      "outputs": []
    }
  ]
}